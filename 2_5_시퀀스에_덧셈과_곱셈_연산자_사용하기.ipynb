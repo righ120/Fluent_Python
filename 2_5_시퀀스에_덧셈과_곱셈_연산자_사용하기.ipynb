{
  "nbformat": 4,
  "nbformat_minor": 0,
  "metadata": {
    "colab": {
      "name": "2.5 시퀀스에 덧셈과 곱셈 연산자 사용하기.ipynb",
      "version": "0.3.2",
      "provenance": [],
      "include_colab_link": true
    },
    "kernelspec": {
      "name": "python3",
      "display_name": "Python 3"
    }
  },
  "cells": [
    {
      "cell_type": "markdown",
      "metadata": {
        "id": "view-in-github",
        "colab_type": "text"
      },
      "source": [
        "<a href=\"https://colab.research.google.com/github/righ120/Fluent_Python/blob/master/2_5_%EC%8B%9C%ED%80%80%EC%8A%A4%EC%97%90_%EB%8D%A7%EC%85%88%EA%B3%BC_%EA%B3%B1%EC%85%88_%EC%97%B0%EC%82%B0%EC%9E%90_%EC%82%AC%EC%9A%A9%ED%95%98%EA%B8%B0.ipynb\" target=\"_parent\"><img src=\"https://colab.research.google.com/assets/colab-badge.svg\" alt=\"Open In Colab\"/></a>"
      ]
    },
    {
      "cell_type": "markdown",
      "metadata": {
        "id": "a26y8vI_NNVi",
        "colab_type": "text"
      },
      "source": [
        "# CH 2. 시퀀스\n",
        "\n",
        "## 2.5 시퀀스에 덧셈과 곱셈 연산자 사용하기\n",
        "\n",
        "일반적으로 덧셈의 경우 피연산자 두 개가 같은 자료형이어야하며, 둘 다 변경되지 않지만 동일한 자료형의 시퀀스가 새로 만들어진다. 곱셈 연산자 역시 언제나 객체를 새로 만들고, 피연산자를 변경하지 않는다. </br></br>\n",
        "\n",
        " 하나의 시퀀스를 여러 번 연결하려면 정수를 곱해서 표현한다. "
      ]
    },
    {
      "cell_type": "code",
      "metadata": {
        "id": "tKcKGYQYM4mv",
        "colab_type": "code",
        "colab": {
          "base_uri": "https://localhost:8080/",
          "height": 52
        },
        "outputId": "70fad4f0-0580-44a9-d638-999e05492e66"
      },
      "source": [
        "l = [ 1, 2, 3]\n",
        "print(l*5)\n",
        "\n",
        "5 * 'abcd'"
      ],
      "execution_count": 1,
      "outputs": [
        {
          "output_type": "stream",
          "text": [
            "[1, 2, 3, 1, 2, 3, 1, 2, 3, 1, 2, 3, 1, 2, 3]\n"
          ],
          "name": "stdout"
        },
        {
          "output_type": "execute_result",
          "data": {
            "text/plain": [
              "'abcdabcdabcdabcdabcd'"
            ]
          },
          "metadata": {
            "tags": []
          },
          "execution_count": 1
        }
      ]
    },
    {
      "cell_type": "markdown",
      "metadata": {
        "id": "UwaewdWEOgQP",
        "colab_type": "text"
      },
      "source": [
        "### 2.5.1 리스트의 리스트 만들기\n",
        "\n",
        "내포된 리스트를 가진 리스트를 초기화해야하는 경우 지능형 리스트를 사용하는 것이 가장 좋다."
      ]
    },
    {
      "cell_type": "code",
      "metadata": {
        "id": "_sF36Pn0OoW4",
        "colab_type": "code",
        "colab": {
          "base_uri": "https://localhost:8080/",
          "height": 105
        },
        "outputId": "e500e5d1-8100-4937-908d-8ec3cd1ce7ca"
      },
      "source": [
        "board = [['_'] * 3 for _ in range(3)]\n",
        "print(board)\n",
        "\n",
        "board[1][2] = 'X'\n",
        "print(board)\n",
        "print()\n",
        "print('아래는 최상위 리스트가 동일한 내부 리스트에 대한 참조 세개를 가진다.')\n",
        "weird_board = [['_'] * 3] * 3\n",
        "print(weird_board)\n",
        "\n",
        "weird_board[1][2] = 'O'\n",
        "print(weird_board)"
      ],
      "execution_count": 5,
      "outputs": [
        {
          "output_type": "stream",
          "text": [
            "[['_', '_', '_'], ['_', '_', '_'], ['_', '_', '_']]\n",
            "[['_', '_', '_'], ['_', '_', 'X'], ['_', '_', '_']]\n",
            "아래는 최상위 리스트가 동일한 내부 리스트에 대한 참조 세개를 가진다.\n",
            "[['_', '_', '_'], ['_', '_', '_'], ['_', '_', '_']]\n",
            "[['_', '_', 'O'], ['_', '_', 'O'], ['_', '_', 'O']]\n"
          ],
          "name": "stdout"
        }
      ]
    },
    {
      "cell_type": "code",
      "metadata": {
        "id": "fwvcaTTePIdB",
        "colab_type": "code",
        "colab": {
          "base_uri": "https://localhost:8080/",
          "height": 87
        },
        "outputId": "9b390fa8-5ea6-4744-e210-a89d1cffa2b8"
      },
      "source": [
        "board = []\n",
        "for i in range(3):\n",
        "  row = ['_'] * 3\n",
        "  board.append(row)\n",
        "board[2][0]='X'\n",
        "print(board)\n",
        "print()\n",
        "print('아래는 최상위 리스트가 동일한 내부 리스트에 대한 참조 세개를 가진다.')\n",
        "row = ['_'] * 3\n",
        "weird_board = []\n",
        "for i in range(3):\n",
        "  weird_board.append(row)\n",
        "weird_board[2][0] = 'O'\n",
        "print(weird_board)"
      ],
      "execution_count": 6,
      "outputs": [
        {
          "output_type": "stream",
          "text": [
            "[['_', '_', '_'], ['_', '_', '_'], ['X', '_', '_']]\n",
            "\n",
            "아래는 최상위 리스트가 동일한 내부 리스트에 대한 참조 세개를 가진다.\n",
            "[['O', '_', '_'], ['O', '_', '_'], ['O', '_', '_']]\n"
          ],
          "name": "stdout"
        }
      ]
    }
  ]
}