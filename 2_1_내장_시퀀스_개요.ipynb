{
  "nbformat": 4,
  "nbformat_minor": 0,
  "metadata": {
    "colab": {
      "name": "2.1 내장 시퀀스 개요.ipynb",
      "version": "0.3.2",
      "provenance": [],
      "include_colab_link": true
    },
    "kernelspec": {
      "name": "python3",
      "display_name": "Python 3"
    }
  },
  "cells": [
    {
      "cell_type": "markdown",
      "metadata": {
        "id": "view-in-github",
        "colab_type": "text"
      },
      "source": [
        "<a href=\"https://colab.research.google.com/github/righ120/Fluent_Python/blob/master/2_1_%EB%82%B4%EC%9E%A5_%EC%8B%9C%ED%80%80%EC%8A%A4_%EA%B0%9C%EC%9A%94.ipynb\" target=\"_parent\"><img src=\"https://colab.research.google.com/assets/colab-badge.svg\" alt=\"Open In Colab\"/></a>"
      ]
    },
    {
      "cell_type": "markdown",
      "metadata": {
        "id": "WiadOvzxxa3D",
        "colab_type": "text"
      },
      "source": [
        "# CH 2. 시퀀스\n",
        "\n",
        "## 2-1. 내장 시퀀스 개요\n",
        "\n",
        "1. 자료형의 균일성에 따른 시퀀스 분류\n",
        "\n",
        "> * **컨테이너 시퀀스** : 서로 다른 자료형의 항목들을 담을 수 있는 list, tuple, collections.deque 형</br>\n",
        "> * **균일 시퀀스** : 단 하나의 자료형만 담을 수 있는 str, bytes, bytearray, memoryview, array.array 형</br>\n",
        "\n",
        "**컨테이너 시퀀스**(container sequence) 는 객체에 대한 참조를 담고 있으며 객체는 어떠한 자료형도 될 수 있지만, **균일 시퀀스**(flat sequence)는 객체에 대한 참조 대신 자신의 메모리 공간에 각 항목의 값을 직접 담는다. 따라서 균일 시퀀스가 메모리를 더 적게 사용하지만, 문자, 바이트, 숫자 등 기본적인 자료형만 저장할 수 있다.\n",
        "\n",
        "2. 가변성에 따른 분류\n",
        "\n",
        "> * **가변 시퀀스** : list, bytearray, array.array, collections.deque, memoryview 형 </br>\n",
        "> * **불변 시퀀스** : tuple, str, bytes 형</br>\n",
        "\n",
        "\n",
        "\n",
        "\n",
        "\n"
      ]
    },
    {
      "cell_type": "code",
      "metadata": {
        "id": "R5VOTdYKwpAa",
        "colab_type": "code",
        "colab": {}
      },
      "source": [
        ""
      ],
      "execution_count": 0,
      "outputs": []
    }
  ]
}