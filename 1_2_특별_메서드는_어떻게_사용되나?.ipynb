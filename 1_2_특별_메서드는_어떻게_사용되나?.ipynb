{
  "nbformat": 4,
  "nbformat_minor": 0,
  "metadata": {
    "colab": {
      "name": "1.2 특별 메서드는 어떻게 사용되나?.ipynb",
      "version": "0.3.2",
      "provenance": [],
      "include_colab_link": true
    },
    "kernelspec": {
      "name": "python3",
      "display_name": "Python 3"
    }
  },
  "cells": [
    {
      "cell_type": "markdown",
      "metadata": {
        "id": "view-in-github",
        "colab_type": "text"
      },
      "source": [
        "<a href=\"https://colab.research.google.com/github/righ120/Fluent_Python/blob/master/1_2_%ED%8A%B9%EB%B3%84_%EB%A9%94%EC%84%9C%EB%93%9C%EB%8A%94_%EC%96%B4%EB%96%BB%EA%B2%8C_%EC%82%AC%EC%9A%A9%EB%90%98%EB%82%98%3F.ipynb\" target=\"_parent\"><img src=\"https://colab.research.google.com/assets/colab-badge.svg\" alt=\"Open In Colab\"/></a>"
      ]
    },
    {
      "cell_type": "markdown",
      "metadata": {
        "id": "ryi8iBSLRXaM",
        "colab_type": "text"
      },
      "source": [
        "#CH1. 파이썬 데이터 모델\n",
        "\n",
        "## 1.2 특별 메서드는 어떻게 사용되나?\n",
        "\n",
        "\n",
        "*   특별 메서드를 호출해야하는 경우에는 일반적으로 <code>len(), iter(), str()</code> 등 관련된 내장함수를 호출 하는 것이 좋다.\n",
        "\n",
        "*   하지만, 내장 데이터형(<code>list, str, bytearray</code> 등)의 경우 특별 메서드를 호출하지 않는 경우도 있으며 메서드 호출보다 빠르다. 예를 들어 len() 메서드는 메모리에 있는 size 필드 값을 반환한다. \n",
        "\n"
      ]
    },
    {
      "cell_type": "markdown",
      "metadata": {
        "id": "RJSutqRkTeEt",
        "colab_type": "text"
      },
      "source": [
        "### 1.2.1 수치형 흉내 내기\n"
      ]
    },
    {
      "cell_type": "code",
      "metadata": {
        "id": "pg-zgYNvREpc",
        "colab_type": "code",
        "colab": {}
      },
      "source": [
        "from math import hypot\n",
        "\n",
        "class Vector:\n",
        "  \n",
        "  def __init__(self, x=0, y=0):\n",
        "    self.x = x\n",
        "    self.y = y\n",
        "    \n",
        "#   def __repr__(self):\n",
        "#     return 'Vector(%r, %r)' % (self.x, self.y)\n",
        "  \n",
        "  def __abs__(self):\n",
        "    return hypot(self.x, self.y)\n",
        "  \n",
        "  def __bool__(self):\n",
        "    return bool(abs(self))\n",
        "  \n",
        "  def __add__(self, other):\n",
        "    x = self.x + other.x\n",
        "    y = self.y + other.y\n",
        "    return Vector(x,y)\n",
        "  \n",
        "  def __mul__(self, scalar):\n",
        "    return Vector(self.x * scalar, self.y * scalar)"
      ],
      "execution_count": 0,
      "outputs": []
    },
    {
      "cell_type": "markdown",
      "metadata": {
        "id": "tT1UVd6GTlwo",
        "colab_type": "text"
      },
      "source": [
        "테스트!\n"
      ]
    },
    {
      "cell_type": "code",
      "metadata": {
        "id": "efFByzclTZ_g",
        "colab_type": "code",
        "outputId": "b2b84a48-d19f-40f6-950d-edc1e79df37a",
        "colab": {
          "base_uri": "https://localhost:8080/",
          "height": 34
        }
      },
      "source": [
        "v1 = Vector(2,4)\n",
        "v2 = Vector(2,1)\n",
        "\n",
        "print(v1 + v2)"
      ],
      "execution_count": 0,
      "outputs": [
        {
          "output_type": "stream",
          "text": [
            "Vector(4, 5)\n"
          ],
          "name": "stdout"
        }
      ]
    },
    {
      "cell_type": "code",
      "metadata": {
        "id": "JYgM66npTsXi",
        "colab_type": "code",
        "outputId": "14d62c63-05e2-4225-d6b6-1a5f794a7106",
        "colab": {
          "base_uri": "https://localhost:8080/",
          "height": 34
        }
      },
      "source": [
        "v = Vector(3,4)\n",
        "abs(v)"
      ],
      "execution_count": 0,
      "outputs": [
        {
          "output_type": "execute_result",
          "data": {
            "text/plain": [
              "5.0"
            ]
          },
          "metadata": {
            "tags": []
          },
          "execution_count": 3
        }
      ]
    },
    {
      "cell_type": "code",
      "metadata": {
        "id": "Lct9AmD0TxMX",
        "colab_type": "code",
        "outputId": "17d53b4f-aa53-4eff-9e6a-25ec00a31dd0",
        "colab": {
          "base_uri": "https://localhost:8080/",
          "height": 34
        }
      },
      "source": [
        "v * 3"
      ],
      "execution_count": 0,
      "outputs": [
        {
          "output_type": "execute_result",
          "data": {
            "text/plain": [
              "Vector(9, 12)"
            ]
          },
          "metadata": {
            "tags": []
          },
          "execution_count": 4
        }
      ]
    },
    {
      "cell_type": "code",
      "metadata": {
        "id": "jEOcPjSvUKWJ",
        "colab_type": "code",
        "outputId": "625431b0-9b59-4aa3-c681-a6edea2fff1b",
        "colab": {
          "base_uri": "https://localhost:8080/",
          "height": 34
        }
      },
      "source": [
        "abs(v * 3)"
      ],
      "execution_count": 0,
      "outputs": [
        {
          "output_type": "execute_result",
          "data": {
            "text/plain": [
              "15.0"
            ]
          },
          "metadata": {
            "tags": []
          },
          "execution_count": 5
        }
      ]
    },
    {
      "cell_type": "markdown",
      "metadata": {
        "id": "biEvb8VCUP1t",
        "colab_type": "text"
      },
      "source": [
        "### 1.2.2 문자열 표현"
      ]
    },
    {
      "cell_type": "markdown",
      "metadata": {
        "id": "75CbuVJLUaK5",
        "colab_type": "text"
      },
      "source": [
        "<code>\\_\\_repr__()</code> 특별 메서드는 객체를 문자열로 표현하기 위해 <code>repr()</code> 내장 메서드에 의해 호출된다.  만일 <code>\\_\\_repr__()</code> 메서드를 구현하지 않으면 <code>Vector</code> 객체는 콘솔에 <\\_\\_main__.Vector at 0x7fc1661a4fd0> 와 같은 형태로 출력한다.</br></br>\n",
        "이때, 출력할 속성의 표준 표현을 가져오기 위해 %r 을 사용하는 것에 주의 해야한다.</br></br>\n",
        "<code>\\_\\_repr__()</code>은 log 등에 남길 표현을 <code>\\_\\_str__()</code>은 사용자에게 보여줄 표현을 정의한다."
      ]
    },
    {
      "cell_type": "markdown",
      "metadata": {
        "id": "Fxq07n8nZQEI",
        "colab_type": "text"
      },
      "source": [
        "### 1.2.3 산술 연산자\n"
      ]
    },
    {
      "cell_type": "markdown",
      "metadata": {
        "id": "wJyRfnXVZcri",
        "colab_type": "text"
      },
      "source": [
        "<code>\\_\\_add__()</code>와 <code>\\_\\_mul__()</code>의 기본 사용법을 보여주기 위해 +와 * 연산자를 구현한다. 두 경우 모두 메서드는 <code>Vector</code> 객체를 새로 만들어서 반환하며 두 개의 피연산자는 변경하지 않는다. 중위 연산자는 의례적으로 피연산자를 변경하지 않고 객체를 새로 만든다."
      ]
    },
    {
      "cell_type": "markdown",
      "metadata": {
        "id": "poAHTeGTaREY",
        "colab_type": "text"
      },
      "source": [
        "### 1.2.4 사용자 정의형 불리언 값"
      ]
    },
    {
      "cell_type": "markdown",
      "metadata": {
        "id": "1UZEFIbQaXil",
        "colab_type": "text"
      },
      "source": [
        "\n",
        "\n",
        "*   <code>\\_\\_bool__()</code>이나 <code>\\_\\_len__()</code>을 구현하지 않은 경우, 기본적으로 사용자 정의 클래스의 객체는 참된 값이라고 간주된다. \n",
        "*   <code>bool(x)</code>는 <code>x.\\_\\_bool__()</code>을 호출한 결과를 이용한다.\n",
        "*   <code>\\_\\_bool__()</code>이 구현되어 있지 않으면 파이썬은 <code>x.\\_\\_len__()</code>을 호출하며, 이 특별 메서드가 0을 반환하면 <code>bool()</code>은 <code>False</code>를 그렇지 않으면 <code>True</code>를 반환한다.\n",
        "\n"
      ]
    }
  ]
}