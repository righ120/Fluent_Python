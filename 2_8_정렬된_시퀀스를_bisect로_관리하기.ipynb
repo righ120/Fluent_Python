{
  "nbformat": 4,
  "nbformat_minor": 0,
  "metadata": {
    "colab": {
      "name": "2.8 정렬된 시퀀스를 bisect로 관리하기.ipynb",
      "version": "0.3.2",
      "provenance": [],
      "include_colab_link": true
    },
    "kernelspec": {
      "name": "python3",
      "display_name": "Python 3"
    }
  },
  "cells": [
    {
      "cell_type": "markdown",
      "metadata": {
        "id": "view-in-github",
        "colab_type": "text"
      },
      "source": [
        "<a href=\"https://colab.research.google.com/github/righ120/Fluent_Python/blob/master/2_8_%EC%A0%95%EB%A0%AC%EB%90%9C_%EC%8B%9C%ED%80%80%EC%8A%A4%EB%A5%BC_bisect%EB%A1%9C_%EA%B4%80%EB%A6%AC%ED%95%98%EA%B8%B0.ipynb\" target=\"_parent\"><img src=\"https://colab.research.google.com/assets/colab-badge.svg\" alt=\"Open In Colab\"/></a>"
      ]
    },
    {
      "cell_type": "markdown",
      "metadata": {
        "id": "w3VSSZRZZxLr",
        "colab_type": "text"
      },
      "source": [
        "# CH 2. 시퀀스\n",
        "\n",
        "## 2.8 정렬된 시퀀스를 bisect로 관리하기\n",
        "\n",
        "bisect 모듈은 bisect()와 insort() 함수를 제공한다. bisect()는 이진 검색 알고리즘을 이용해서 시퀀스를 검색하고, insort()는 정렬된 시퀀스 안에 항목을 삽입한다."
      ]
    },
    {
      "cell_type": "markdown",
      "metadata": {
        "id": "UA_DK1GPaguk",
        "colab_type": "text"
      },
      "source": [
        "### 2.8.1 bisect()로 검색하기\n",
        "\n",
        "bisect(haystack, needle)은 *정렬된 시퀀스*인 haystack 안에서 오름차순 정렬 상태를 유지한 채로 needle을 추가할 수 있는 위치를 찾아낸다. 즉, bisect(haystack, needle)의 결과값을 인덱스(index)로 받으면 인덱스 앞쪽에는 needle 보다 같거나 작은 항목이 온다. </br></br>\n",
        "\n",
        "haystack.insert(index, needle)을 호출하면 needle을 추가할 수 있지만, insort() 함수는 이 두 과정을 더 빨리 처리한다."
      ]
    },
    {
      "cell_type": "code",
      "metadata": {
        "id": "7bpUFNiCZsAQ",
        "colab_type": "code",
        "colab": {
          "base_uri": "https://localhost:8080/",
          "height": 246
        },
        "outputId": "b46fc0ec-d4ec-4269-a6f3-16d5bde3e314"
      },
      "source": [
        "import bisect\n",
        "import sys\n",
        "\n",
        "HAYSTACK = [1,4,5,6,8,12,15,20,21,23,23,26,29,30]\n",
        "NEEDLES = [0,1,2,5,8,10,22,23,29,30,31]\n",
        "\n",
        "ROW_FMT = '{0:2d} @ {1:2d}    {2}{0:<2d}'\n",
        "\n",
        "def demo(bisect_fn):\n",
        "  for needle in reversed(NEEDLES):\n",
        "    position = bisect_fn(HAYSTACK, needle)\n",
        "    offset = position * '  |'\n",
        "    print(ROW_FMT.format(needle, position, offset))\n",
        "    \n",
        "# bisect_right\n",
        "bisect_fn = bisect.bisect\n",
        "\n",
        "print('DEMO:', bisect_fn.__name__)\n",
        "print('haystack ->',' '.join('%2d' % n for n in HAYSTACK))\n",
        "\n",
        "demo(bisect_fn)\n",
        "  "
      ],
      "execution_count": 2,
      "outputs": [
        {
          "output_type": "stream",
          "text": [
            "DEMO: bisect\n",
            "haystack ->  1  4  5  6  8 12 15 20 21 23 23 26 29 30\n",
            "31 @ 14      |  |  |  |  |  |  |  |  |  |  |  |  |  |31\n",
            "30 @ 14      |  |  |  |  |  |  |  |  |  |  |  |  |  |30\n",
            "29 @ 13      |  |  |  |  |  |  |  |  |  |  |  |  |29\n",
            "23 @ 11      |  |  |  |  |  |  |  |  |  |  |23\n",
            "22 @  9      |  |  |  |  |  |  |  |  |22\n",
            "10 @  5      |  |  |  |  |10\n",
            " 8 @  5      |  |  |  |  |8 \n",
            " 5 @  3      |  |  |5 \n",
            " 2 @  1      |2 \n",
            " 1 @  1      |1 \n",
            " 0 @  0    0 \n"
          ],
          "name": "stdout"
        }
      ]
    },
    {
      "cell_type": "markdown",
      "metadata": {
        "id": "wJXw5zV6c5qL",
        "colab_type": "text"
      },
      "source": [
        "bisect의 행동은 두 가지 방식으로 조절할 수 있다.\n",
        "</br>\n",
        "1. optional parameter인 lo와 hi를 사용하면 삽입할 때 검색할 시퀀스 영역을 좁힐 수 있다. lo의 기본값은 0, hi의 기본값은 시퀀스의 len()이다. </br>\n",
        "2. bisect는 실제로는 bisect_right() 의 alias이며, 자매 함수로 bisect_left()가 있다. 이 둘의 차이는, 리스트 안에 needle과 같은 값이 있을 때, needle을 뒤쪽에 배치할 것인지 앞쪽에 배치할 것인지로 나뉜다.</br>\n"
      ]
    },
    {
      "cell_type": "code",
      "metadata": {
        "id": "D6dPUZN-ce6d",
        "colab_type": "code",
        "colab": {
          "base_uri": "https://localhost:8080/",
          "height": 246
        },
        "outputId": "acbee850-2dbc-4948-b926-0858cfebd4ff"
      },
      "source": [
        "import bisect\n",
        "import sys\n",
        "\n",
        "HAYSTACK = [1,4,5,6,8,12,15,20,21,23,23,26,29,30]\n",
        "NEEDLES = [0,1,2,5,8,10,22,23,29,30,31]\n",
        "\n",
        "ROW_FMT = '{0:2d} @ {1:2d}    {2}{0:<2d}'\n",
        "\n",
        "def demo(bisect_fn):\n",
        "  for needle in reversed(NEEDLES):\n",
        "    position = bisect_fn(HAYSTACK, needle)\n",
        "    offset = position * '  |'\n",
        "    print(ROW_FMT.format(needle, position, offset))\n",
        "    \n",
        "# bisect_left\n",
        "bisect_fn = bisect.bisect_left\n",
        "\n",
        "print('DEMO:', bisect_fn.__name__)\n",
        "print('haystack ->',' '.join('%2d' % n for n in HAYSTACK))\n",
        "\n",
        "demo(bisect_fn)\n",
        "  "
      ],
      "execution_count": 3,
      "outputs": [
        {
          "output_type": "stream",
          "text": [
            "DEMO: bisect_left\n",
            "haystack ->  1  4  5  6  8 12 15 20 21 23 23 26 29 30\n",
            "31 @ 14      |  |  |  |  |  |  |  |  |  |  |  |  |  |31\n",
            "30 @ 13      |  |  |  |  |  |  |  |  |  |  |  |  |30\n",
            "29 @ 12      |  |  |  |  |  |  |  |  |  |  |  |29\n",
            "23 @  9      |  |  |  |  |  |  |  |  |23\n",
            "22 @  9      |  |  |  |  |  |  |  |  |22\n",
            "10 @  5      |  |  |  |  |10\n",
            " 8 @  4      |  |  |  |8 \n",
            " 5 @  2      |  |5 \n",
            " 2 @  1      |2 \n",
            " 1 @  0    1 \n",
            " 0 @  0    0 \n"
          ],
          "name": "stdout"
        }
      ]
    },
    {
      "cell_type": "markdown",
      "metadata": {
        "id": "X9v2m_2_eFjj",
        "colab_type": "text"
      },
      "source": [
        "bisect를 사용하면 수치형 값으로 테이블을 참조할 수 있으므로, 숫자를 등급으로 바꾸는데 활용할 수 있다."
      ]
    },
    {
      "cell_type": "code",
      "metadata": {
        "id": "i-9NLu8HeQyz",
        "colab_type": "code",
        "colab": {
          "base_uri": "https://localhost:8080/",
          "height": 34
        },
        "outputId": "8de91ef3-61f5-4ae0-c6bb-373ef76d8b8c"
      },
      "source": [
        "def grade(score, breakpoints=[60, 70, 80, 90], grades='FDCBA'):\n",
        "  i = bisect.bisect(breakpoints, score)\n",
        "  return grades[i]\n",
        "\n",
        "print([grade(score) for score in [33, 99, 77, 70, 89, 90, 100]])"
      ],
      "execution_count": 5,
      "outputs": [
        {
          "output_type": "stream",
          "text": [
            "['F', 'A', 'C', 'C', 'B', 'A', 'A']\n"
          ],
          "name": "stdout"
        }
      ]
    },
    {
      "cell_type": "markdown",
      "metadata": {
        "id": "D6fUMXaiez-M",
        "colab_type": "text"
      },
      "source": [
        "### 2.8.2 bisect.insort()로 삽입하기\n",
        "\n",
        "bisect.insort(seq, item)은 seq를 오름차순으로 유지한채 item을 seq에 삽입한다. 이 때도 optinal parameter로 lo와 hi를 인수로 받아 시퀀스 의 검색 범위를 제한할 수 있다."
      ]
    },
    {
      "cell_type": "code",
      "metadata": {
        "id": "WTNZed3depAg",
        "colab_type": "code",
        "colab": {
          "base_uri": "https://localhost:8080/",
          "height": 140
        },
        "outputId": "b22df08e-dd48-4945-f220-948df9d2da87"
      },
      "source": [
        "import bisect\n",
        "import random\n",
        "\n",
        "SIZE = 7\n",
        "\n",
        "random.seed(1729)\n",
        "\n",
        "my_list = []\n",
        "for i in range(SIZE):\n",
        "  new_item = random.randrange(SIZE * 2)\n",
        "  bisect.insort(my_list, new_item)\n",
        "  print('%2d ->' % new_item, my_list)"
      ],
      "execution_count": 6,
      "outputs": [
        {
          "output_type": "stream",
          "text": [
            "10 -> [10]\n",
            " 0 -> [0, 10]\n",
            " 6 -> [0, 6, 10]\n",
            " 8 -> [0, 6, 8, 10]\n",
            " 7 -> [0, 6, 7, 8, 10]\n",
            " 2 -> [0, 2, 6, 7, 8, 10]\n",
            "10 -> [0, 2, 6, 7, 8, 10, 10]\n"
          ],
          "name": "stdout"
        }
      ]
    }
  ]
}