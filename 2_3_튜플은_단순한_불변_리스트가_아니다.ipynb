{
  "nbformat": 4,
  "nbformat_minor": 0,
  "metadata": {
    "colab": {
      "name": "2.3 튜플은 단순한 불변 리스트가 아니다.ipynb",
      "version": "0.3.2",
      "provenance": [],
      "include_colab_link": true
    },
    "kernelspec": {
      "name": "python3",
      "display_name": "Python 3"
    }
  },
  "cells": [
    {
      "cell_type": "markdown",
      "metadata": {
        "id": "view-in-github",
        "colab_type": "text"
      },
      "source": [
        "<a href=\"https://colab.research.google.com/github/righ120/Fluent_Python/blob/master/2_3_%ED%8A%9C%ED%94%8C%EC%9D%80_%EB%8B%A8%EC%88%9C%ED%95%9C_%EB%B6%88%EB%B3%80_%EB%A6%AC%EC%8A%A4%ED%8A%B8%EA%B0%80_%EC%95%84%EB%8B%88%EB%8B%A4.ipynb\" target=\"_parent\"><img src=\"https://colab.research.google.com/assets/colab-badge.svg\" alt=\"Open In Colab\"/></a>"
      ]
    },
    {
      "cell_type": "markdown",
      "metadata": {
        "id": "1xEWJ09U10WD",
        "colab_type": "text"
      },
      "source": [
        "# CH 2. 시퀀스\n",
        "\n",
        "## 2.3 튜플은 단순한 불변 리스트가 아니다"
      ]
    },
    {
      "cell_type": "markdown",
      "metadata": {
        "id": "ZK6tIHFG18Ze",
        "colab_type": "text"
      },
      "source": [
        "### 2.3.1 레코드로서의 튜플\n",
        "\n",
        "튜플의 각 항목은 레코드의 필드 하나를 의미하며 항목의 위치가 의미를 결정한다. </br>\n",
        "\n",
        "튜플을 단지 불변 리스트로 생각한다면 경우에 따라 항목의 크기와 순서가 중요할 수도 있고 그렇지 않을 수도 있다. 그러나 튜플을 필드의 집합으로 사용하는 경우에는 항목 수가 고정되어 있고 항목의 순서가 중요하다. </br>"
      ]
    },
    {
      "cell_type": "code",
      "metadata": {
        "id": "cmel-MYB1lYT",
        "colab_type": "code",
        "colab": {
          "base_uri": "https://localhost:8080/",
          "height": 122
        },
        "outputId": "ee756761-6e83-4fe0-983b-d91f1072f84f"
      },
      "source": [
        "lax_coordinates = (33.9425, -118.408056)\n",
        "city, year, pop, chg, area = ('Tokyo', 2003, 32450, 0.66, 8014)\n",
        "traveler_ids = [('USA', '31195855'), ('BRA', 'CE342567'),('ESP', 'XDA205856')]\n",
        "for passport in sorted(traveler_ids): # 첫번째 field를 기준으로 정렬 된다.\n",
        "  print('%s/%s' % passport)\n",
        "  \n",
        "for country, _ in traveler_ids: # 관심 없는 항목에는 더미변수를 나타내는 언더바(_)에 할당한다.\n",
        "  print(country)"
      ],
      "execution_count": 2,
      "outputs": [
        {
          "output_type": "stream",
          "text": [
            "BRA/CE342567\n",
            "ESP/XDA205856\n",
            "USA/31195855\n",
            "USA\n",
            "BRA\n",
            "ESP\n"
          ],
          "name": "stdout"
        }
      ]
    },
    {
      "cell_type": "markdown",
      "metadata": {
        "id": "1sELNI5e4Veg",
        "colab_type": "text"
      },
      "source": [
        "### 2.3.2 튜플 언패킹\n",
        "\n",
        "튜플 언패킹을 통해 병렬 할당을 할 수 있다."
      ]
    },
    {
      "cell_type": "code",
      "metadata": {
        "id": "MnrqIH9i4Uen",
        "colab_type": "code",
        "colab": {
          "base_uri": "https://localhost:8080/",
          "height": 52
        },
        "outputId": "38855ff8-a9f0-44c5-95ca-d0b3667eed08"
      },
      "source": [
        "lax_coordinates = (33.9425, -118.408056)\n",
        "latitude, longitude = lax_coordinates\n",
        "\n",
        "print(latitude)\n",
        "print(longitude)"
      ],
      "execution_count": 4,
      "outputs": [
        {
          "output_type": "stream",
          "text": [
            "33.9425\n",
            "-118.408056\n"
          ],
          "name": "stdout"
        }
      ]
    },
    {
      "cell_type": "markdown",
      "metadata": {
        "id": "ZlOcqzgr4y7v",
        "colab_type": "text"
      },
      "source": [
        "튜플 언패킹을 이용하면 임시 변수를 사용하지 않고도 두 변수의 값을 서로 교환할 수 있다."
      ]
    },
    {
      "cell_type": "code",
      "metadata": {
        "id": "m7puRXf14thH",
        "colab_type": "code",
        "colab": {
          "base_uri": "https://localhost:8080/",
          "height": 52
        },
        "outputId": "e19457c0-b1ad-437f-9e07-98464128a78d"
      },
      "source": [
        "a=2\n",
        "b=3\n",
        "print(a,b)\n",
        "\n",
        "b,a = a, b\n",
        "print(a,b)"
      ],
      "execution_count": 5,
      "outputs": [
        {
          "output_type": "stream",
          "text": [
            "2 3\n",
            "3 2\n"
          ],
          "name": "stdout"
        }
      ]
    },
    {
      "cell_type": "markdown",
      "metadata": {
        "id": "ZgNH3FvZ5B78",
        "colab_type": "text"
      },
      "source": [
        "함수를 호출할 때 인수 앞에 \\*를 붙여 튜플을 언패킹 할 수 있다."
      ]
    },
    {
      "cell_type": "code",
      "metadata": {
        "id": "9OQR2stJ5Afm",
        "colab_type": "code",
        "colab": {
          "base_uri": "https://localhost:8080/",
          "height": 70
        },
        "outputId": "6a3aed38-aca5-436f-c9f0-725e29b367ad"
      },
      "source": [
        "print(divmod(20, 8))\n",
        "\n",
        "t = (20, 8)\n",
        "print(divmod(*t))\n",
        "\n",
        "quotient, remainder = divmod(*t)\n",
        "print(quotient, remainder)"
      ],
      "execution_count": 7,
      "outputs": [
        {
          "output_type": "stream",
          "text": [
            "(2, 4)\n",
            "(2, 4)\n",
            "2 4\n"
          ],
          "name": "stdout"
        }
      ]
    },
    {
      "cell_type": "markdown",
      "metadata": {
        "id": "8ZoBph6d5faL",
        "colab_type": "text"
      },
      "source": [
        "<code>os.path.split()</code>함수를 이용해서 파일시스템 경로에서 경로명과 파일명을 가져올 수 있다."
      ]
    },
    {
      "cell_type": "code",
      "metadata": {
        "id": "b7Kl2Hnb5UqE",
        "colab_type": "code",
        "colab": {
          "base_uri": "https://localhost:8080/",
          "height": 52
        },
        "outputId": "9be2b502-022b-4860-83ab-1f730f6379f9"
      },
      "source": [
        "import os\n",
        "\n",
        "path, filename = os.path.split('/home/luciano/.ssh/idrsa.pub')\n",
        "print(path)\n",
        "print(filename)"
      ],
      "execution_count": 9,
      "outputs": [
        {
          "output_type": "stream",
          "text": [
            "/home/luciano/.ssh\n",
            "idrsa.pub\n"
          ],
          "name": "stdout"
        }
      ]
    },
    {
      "cell_type": "markdown",
      "metadata": {
        "id": "jhKS0L9z577L",
        "colab_type": "text"
      },
      "source": [
        "튜플 언패킹 시에 초과 항목을 잡기 위해 \\*을 사용할 수 있다."
      ]
    },
    {
      "cell_type": "code",
      "metadata": {
        "id": "gCOUuOSC5uUV",
        "colab_type": "code",
        "colab": {
          "base_uri": "https://localhost:8080/",
          "height": 70
        },
        "outputId": "85233d39-647c-4b58-bba8-f8a7c9f3f735"
      },
      "source": [
        "a, b, *rest = range(5)\n",
        "print(a, b, rest)\n",
        "\n",
        "a, b, *rest = range(3)\n",
        "print(a, b, rest)\n",
        "\n",
        "a, b, *rest = range(2)\n",
        "print(a, b, rest)"
      ],
      "execution_count": 10,
      "outputs": [
        {
          "output_type": "stream",
          "text": [
            "0 1 [2, 3, 4]\n",
            "0 1 [2]\n",
            "0 1 []\n"
          ],
          "name": "stdout"
        }
      ]
    },
    {
      "cell_type": "code",
      "metadata": {
        "id": "oQrb_qBB6MK8",
        "colab_type": "code",
        "colab": {
          "base_uri": "https://localhost:8080/",
          "height": 52
        },
        "outputId": "a6260ec4-8379-40ad-cc69-f4ab78dc0530"
      },
      "source": [
        "a, *body, c, d = range(5)\n",
        "print(a, body, c, d)\n",
        "\n",
        "*head, b, c, d = range(5)\n",
        "print(head, b, c, d)"
      ],
      "execution_count": 12,
      "outputs": [
        {
          "output_type": "stream",
          "text": [
            "0 [1, 2] 3 4\n",
            "[0, 1] 2 3 4\n"
          ],
          "name": "stdout"
        }
      ]
    },
    {
      "cell_type": "markdown",
      "metadata": {
        "id": "AJjaqWP86cQB",
        "colab_type": "text"
      },
      "source": [
        "### 2.3.3 내포된 튜플 언패킹\n",
        "\n",
        "언패킹할 표현식을 받는 튜플은 다른 튜플을 내포할 수 있으며, 파이썬은 표현식이 내포된 구조체에 일치하면 제대로 처리한다."
      ]
    },
    {
      "cell_type": "code",
      "metadata": {
        "id": "F7v3hzzH6ZKb",
        "colab_type": "code",
        "colab": {
          "base_uri": "https://localhost:8080/",
          "height": 87
        },
        "outputId": "54ad80ee-9d5e-4dc5-b613-5b5fe412d94b"
      },
      "source": [
        "metro_areas = [\n",
        "    ('Tokyo', 'JP', 36.933, (35.689722, 139.691667)),\n",
        "    ('Delhi NCR', 'IN', 21.935, (28.613889, 77.208889)),\n",
        "    ('Mexico City', 'MX', 20.142, (19.433333, -99.133333)),\n",
        "    ('New York-Newark', 'US', 20.104, (40.808611, -74.020386)),\n",
        "    ('Sao Paulo', 'BR', 19.649, (-23.547778, -46.635833))\n",
        "]\n",
        "\n",
        "print('{:15} | {:^9} | {:^9}'.format('', 'lat.', 'long.'))\n",
        "fmt = '{:15} | {:^9.4f} | {:^9.4f}'\n",
        "\n",
        "for name, cc, pop, (latitude, longitude) in metro_areas:\n",
        "  if longitude <= 0:\n",
        "    print(fmt.format(name, latitude, longitude))"
      ],
      "execution_count": 13,
      "outputs": [
        {
          "output_type": "stream",
          "text": [
            "                |   lat.    |   long.  \n",
            "Mexico City     |  19.4333  | -99.1333 \n",
            "New York-Newark |  40.8086  | -74.0204 \n",
            "Sao Paulo       | -23.5478  | -46.6358 \n"
          ],
          "name": "stdout"
        }
      ]
    },
    {
      "cell_type": "markdown",
      "metadata": {
        "id": "IoEDkfYD7-nJ",
        "colab_type": "text"
      },
      "source": [
        "### 2.3.4 명명된 튜플\n",
        "\n",
        "collections.namedtuple() 함수는 필드명과 클래스명을 추가한 튜플의 서브 클래스를 생성하는 팩토리 함수로서, 디버깅할 때 유용하다. 필드명이 클래스에 저장되므로 튜플과 동일한 크기의 메모리만 사용하며, 속성을 객체마다 존재하는 <code>\\_\\_dict__</code>에 저장하지 않으므로 일반적인 객체보다 메모리를 적게 사용한다."
      ]
    },
    {
      "cell_type": "code",
      "metadata": {
        "id": "1tTzX-Bu7zDK",
        "colab_type": "code",
        "colab": {
          "base_uri": "https://localhost:8080/",
          "height": 87
        },
        "outputId": "38b50e22-6ad8-4801-84da-1e95754da4a4"
      },
      "source": [
        "from collections import namedtuple\n",
        "City = namedtuple('City', 'name country population coordinates') # 필드명의 리스트는 반복형 문자열이나 공백으로 구분된 하나의 문자열을 이용해서 지정한다.\n",
        "tokyo = City('Tokyo', 'JP', 36.933, (35.689722, 139.691667))\n",
        "print(tokyo)\n",
        "\n",
        "print(tokyo.population)\n",
        "print(tokyo.coordinates)\n",
        "print(tokyo[1])"
      ],
      "execution_count": 17,
      "outputs": [
        {
          "output_type": "stream",
          "text": [
            "City(name='Tokyo', country='JP', population=36.933, coordinates=(35.689722, 139.691667))\n",
            "36.933\n",
            "(35.689722, 139.691667)\n",
            "JP\n"
          ],
          "name": "stdout"
        }
      ]
    },
    {
      "cell_type": "markdown",
      "metadata": {
        "id": "Isz37q0k9lQr",
        "colab_type": "text"
      },
      "source": [
        "namedtuple 은 튜플에서 상속받은 속성 외에 몇 가지 속성을 더 가지고 있다."
      ]
    },
    {
      "cell_type": "code",
      "metadata": {
        "id": "xCsu8SQ98wOT",
        "colab_type": "code",
        "colab": {
          "base_uri": "https://localhost:8080/",
          "height": 122
        },
        "outputId": "d04af711-51a3-460f-a236-ff81a4b786d6"
      },
      "source": [
        "print(City._fields) # _fields는 클래스의 필드명을 담고 있는 튜플이다.\n",
        "\n",
        "LatLong = namedtuple('LatLong', 'lat long')\n",
        "delhi_data = ('Delhi NCR', 'IN', 21.935, LatLong(28.613889, 77.208889))\n",
        "\n",
        "# _make()는 반복형 객체로부터 명명된 튜플을 만든다. City(*delhi_data)를 호출하는 코드와 동일한 역할을 수행한다.\n",
        "delhi = City._make(delhi_data)\n",
        "\n",
        "# _asdict()는 명명된 튜플 객체에서 만들어진 collections.OrderedDict객체를 반환한다.\n",
        "print(delhi._asdict())\n",
        "\n",
        "for key, value in delhi._asdict().items():\n",
        "  print(key + ':', value)"
      ],
      "execution_count": 22,
      "outputs": [
        {
          "output_type": "stream",
          "text": [
            "('name', 'country', 'population', 'coordinates')\n",
            "OrderedDict([('name', 'Delhi NCR'), ('country', 'IN'), ('population', 21.935), ('coordinates', LatLong(lat=28.613889, long=77.208889))])\n",
            "name: Delhi NCR\n",
            "country: IN\n",
            "population: 21.935\n",
            "coordinates: LatLong(lat=28.613889, long=77.208889)\n"
          ],
          "name": "stdout"
        }
      ]
    },
    {
      "cell_type": "markdown",
      "metadata": {
        "id": "LPycmtk5_BtI",
        "colab_type": "text"
      },
      "source": [
        "### 2.3.5 불변 리스트로서의 튜플\n",
        "\n",
        "튜플은 항목을 추가하거나 삭제하는 기능 및 <code>\\_\\_reversed__()</code>메서드를 제외하고 리스트가 제공하는 메서드를 모두 지원한다."
      ]
    }
  ]
}