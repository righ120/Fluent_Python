{
  "nbformat": 4,
  "nbformat_minor": 0,
  "metadata": {
    "colab": {
      "name": "2.4 슬라이싱.ipynb",
      "version": "0.3.2",
      "provenance": [],
      "collapsed_sections": [],
      "include_colab_link": true
    },
    "kernelspec": {
      "name": "python3",
      "display_name": "Python 3"
    }
  },
  "cells": [
    {
      "cell_type": "markdown",
      "metadata": {
        "id": "view-in-github",
        "colab_type": "text"
      },
      "source": [
        "<a href=\"https://colab.research.google.com/github/righ120/Fluent_Python/blob/master/2_4_%EC%8A%AC%EB%9D%BC%EC%9D%B4%EC%8B%B1.ipynb\" target=\"_parent\"><img src=\"https://colab.research.google.com/assets/colab-badge.svg\" alt=\"Open In Colab\"/></a>"
      ]
    },
    {
      "cell_type": "markdown",
      "metadata": {
        "id": "6_9npIxuAWjI",
        "colab_type": "text"
      },
      "source": [
        "# CH 2. 시퀀스\n",
        "\n",
        "## 2.4 슬라이싱"
      ]
    },
    {
      "cell_type": "markdown",
      "metadata": {
        "id": "gSIanTVPAleY",
        "colab_type": "text"
      },
      "source": [
        "### 2.4.1 슬라이스와 범위 지정시에 마지막 항목이 포함되지 않는 이유\n",
        "\n",
        "* 세 개의 항목을 생성하는 range(3)나 my_list[:3]처럼 중단점만 이용해서 슬라이스나 범위를 지정할 때 길이를 계산하기 쉽다\n",
        "* 시작점과 중단점을 모두 지정할 때도 길이를 계산하기 쉽다. (중단점 - 시작점)\n",
        "* x 인덱스를 기준으로 시퀀스를 분할하기 쉽다."
      ]
    },
    {
      "cell_type": "code",
      "metadata": {
        "id": "AFjvrEz4AOkB",
        "colab_type": "code",
        "colab": {
          "base_uri": "https://localhost:8080/",
          "height": 87
        },
        "outputId": "1781c1f2-a5a1-4359-ab88-d96df7a82395"
      },
      "source": [
        "l = [10, 20, 30, 40, 50, 60]\n",
        "print(l[:2])\n",
        "print(l[2:])\n",
        "print(l[:3])\n",
        "print(l[3:])"
      ],
      "execution_count": 1,
      "outputs": [
        {
          "output_type": "stream",
          "text": [
            "[10, 20]\n",
            "[30, 40, 50, 60]\n",
            "[10, 20, 30]\n",
            "[40, 50, 60]\n"
          ],
          "name": "stdout"
        }
      ]
    },
    {
      "cell_type": "markdown",
      "metadata": {
        "id": "dLw6TBtnBRFu",
        "colab_type": "text"
      },
      "source": [
        "### 2.4.2 슬라이스 객체\n",
        "\n",
        "s[a:b:c]는 c보폭 만큼씩 항목을 건너뛰게 만든다. 보폭이 음수인 경우에는 거꾸로 거슬러 올라가 항목을 반환한다."
      ]
    },
    {
      "cell_type": "code",
      "metadata": {
        "id": "0esu-tzhBN1r",
        "colab_type": "code",
        "colab": {
          "base_uri": "https://localhost:8080/",
          "height": 70
        },
        "outputId": "a731b337-adae-44d2-fd95-afa93b785780"
      },
      "source": [
        "s = 'bicycle'\n",
        "print(s[::3])\n",
        "print(s[::-1])\n",
        "print(s[::-2])"
      ],
      "execution_count": 2,
      "outputs": [
        {
          "output_type": "stream",
          "text": [
            "bye\n",
            "elcycib\n",
            "eccb\n"
          ],
          "name": "stdout"
        }
      ]
    },
    {
      "cell_type": "markdown",
      "metadata": {
        "id": "8bOq2oUWCGOu",
        "colab_type": "text"
      },
      "source": [
        "a:b:c 표기법은 인덱스 연산을 수행하는 [] 안에서만 사용할 수 있으며, slice(a, b, c) 객체를 생성한다. </br></br>\n",
        "\n",
        "seq[start:stop:step] 표현식을 평가하기 위해 파이썬은 <code>seq.\\_\\_getitem__(slice(start,stop,step))</code>을 호출한다. </br></br>\n",
        "\n",
        "슬라이스 객체는 슬라이스에 이름을 붙일 수 있게 해준다."
      ]
    },
    {
      "cell_type": "code",
      "metadata": {
        "id": "cERCsRo1Blw_",
        "colab_type": "code",
        "colab": {
          "base_uri": "https://localhost:8080/",
          "height": 70
        },
        "outputId": "8cc2c349-526f-40b1-ee0e-dfb3be52f5c8"
      },
      "source": [
        "invoice = \"\"\"\n",
        "0.....6.................................40...........52..55........\n",
        "1909  Pimoroni PiBerlla                  $17.50      \n",
        "1489  6mm Tactile Switch x20             $4.95       \n",
        "\"\"\"\n",
        "\n",
        "SKU = slice(0,6)\n",
        "DESCRIPTION = slice(6, 40)\n",
        "UNIT_PRICE = slice(40, 52)\n",
        "QUANTITY = slice(52, 55)\n",
        "ITEM_TOTAL = slice(55, None)\n",
        "\n",
        "line_items = invoice.split('\\n')[2:]\n",
        "\n",
        "for item in line_items:\n",
        "  print(item[UNIT_PRICE], item[DESCRIPTION])"
      ],
      "execution_count": 7,
      "outputs": [
        {
          "output_type": "stream",
          "text": [
            " $17.50      Pimoroni PiBerlla                 \n",
            " $4.95       6mm Tactile Switch x20            \n",
            " \n"
          ],
          "name": "stdout"
        }
      ]
    },
    {
      "cell_type": "markdown",
      "metadata": {
        "id": "QCz2Ow0uEGx6",
        "colab_type": "text"
      },
      "source": [
        "### 2.4.3 다차원 슬라이싱과 생략 기호\n",
        "\n",
        "[] 연산자는 콤마로 구분해서 여러 개의 인덱스나 슬라이스를 가질 수 있다. [] 연산자를 처리하는 특수 메서드는 a[i,j]에 들어있는 인덱스들을 튜플로 받는다. </br></br>\n",
        "\n",
        "즉, <code>a[i, j]</code>를 평가하기 위해 파이썬은 <code>a.\\_\\_getitem__((i,j))</code>를 호출한다. 파이썬에 내장된 시퀀스 형은 1차원이므로 단 하나의 인덱스나 슬라이스만 지원하고 튜플은 지원하지 않지만 Numpy 등 외부 패키지 에서 이 방법이 쓰인다. </br></br>\n",
        "\n",
        "세 개의 마침표(...)로 표현된 생략기호는 파이썬 파서에 의해 하나의 토큰으로 인식된다. 이 기호는 Ellipsis 객체의 별명으로서 하나의 ellipsis 클래스의 객체다.</br></br>\n",
        "\n",
        "생략 기호 객체는 f(a, ..., z) 처럼 함수의 인수나, a[i:...] 처럼 슬라이스의 한 부분으로 전달 할 수 있다. 예를 들어 x가 4차원 배열이라면 x[i, ...]는 x[i, :, :, :,]와 동일하다."
      ]
    },
    {
      "cell_type": "markdown",
      "metadata": {
        "id": "5jvWiBVhLYXy",
        "colab_type": "text"
      },
      "source": [
        "### 2.4.4 슬라이스에 할당하기\n",
        "\n",
        "할당문의 왼쪽에 슬라이스 표기법을 사용하거나 del 문의 대상 객체로 지정함으로써 가변 시퀀스를 연결하거나, 잘라 내거나, 값을 변경할 수 있다."
      ]
    },
    {
      "cell_type": "code",
      "metadata": {
        "id": "uzhtYSsED2k5",
        "colab_type": "code",
        "colab": {
          "base_uri": "https://localhost:8080/",
          "height": 105
        },
        "outputId": "becc0a21-9562-44d5-b968-bdd779fdae55"
      },
      "source": [
        "l = list(range(10))\n",
        "print(l)\n",
        "\n",
        "l[2:5] = [20, 30]\n",
        "print(l)\n",
        "\n",
        "del l[5:7]\n",
        "print(l)\n",
        "\n",
        "l[3::2] = [11, 22]\n",
        "print(l)\n",
        "\n",
        "#l[2:5] = 10 # error 할당문의 대상이 슬라이스인 경우, 항목 하나만 할당하는 경우에도 오른쪽에는 반복 가능한 객체가 와야한다.\n",
        "\n",
        "l[2:5] = [100]\n",
        "print(l)"
      ],
      "execution_count": 3,
      "outputs": [
        {
          "output_type": "stream",
          "text": [
            "[0, 1, 2, 3, 4, 5, 6, 7, 8, 9]\n",
            "[0, 1, 20, 30, 5, 6, 7, 8, 9]\n",
            "[0, 1, 20, 30, 5, 8, 9]\n",
            "[0, 1, 20, 11, 5, 22, 9]\n",
            "[0, 1, 100, 22, 9]\n"
          ],
          "name": "stdout"
        }
      ]
    }
  ]
}