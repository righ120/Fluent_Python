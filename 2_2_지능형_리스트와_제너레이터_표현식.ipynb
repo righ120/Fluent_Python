{
  "nbformat": 4,
  "nbformat_minor": 0,
  "metadata": {
    "colab": {
      "name": "2.2 지능형 리스트와 제너레이터 표현식.ipynb",
      "version": "0.3.2",
      "provenance": [],
      "include_colab_link": true
    },
    "kernelspec": {
      "name": "python3",
      "display_name": "Python 3"
    }
  },
  "cells": [
    {
      "cell_type": "markdown",
      "metadata": {
        "id": "view-in-github",
        "colab_type": "text"
      },
      "source": [
        "<a href=\"https://colab.research.google.com/github/righ120/Fluent_Python/blob/master/2_2_%EC%A7%80%EB%8A%A5%ED%98%95_%EB%A6%AC%EC%8A%A4%ED%8A%B8%EC%99%80_%EC%A0%9C%EB%84%88%EB%A0%88%EC%9D%B4%ED%84%B0_%ED%91%9C%ED%98%84%EC%8B%9D.ipynb\" target=\"_parent\"><img src=\"https://colab.research.google.com/assets/colab-badge.svg\" alt=\"Open In Colab\"/></a>"
      ]
    },
    {
      "cell_type": "markdown",
      "metadata": {
        "id": "s3-IU5WX0-F0",
        "colab_type": "text"
      },
      "source": [
        "# CH 2. 시퀀스\n",
        "\n",
        "## 2.2 지능형 리스트와 제너레이터 표현식\n"
      ]
    },
    {
      "cell_type": "markdown",
      "metadata": {
        "id": "QaiIxYrV1RME",
        "colab_type": "text"
      },
      "source": [
        "### 2.2.1 지능형 리스트와 가독성\n",
        "\n",
        "ord() 함수는 아스키 값을 돌려주는 함수 (https://wikidocs.net/32#ord)"
      ]
    },
    {
      "cell_type": "code",
      "metadata": {
        "id": "6XtDS1MT0Yhh",
        "colab_type": "code",
        "colab": {
          "base_uri": "https://localhost:8080/",
          "height": 34
        },
        "outputId": "4cbf205d-fec5-4d71-c594-16866221ac41"
      },
      "source": [
        "# 문자열에서 유니코드 코드포인트 리스트 만들기 (버전 1)\n",
        "symbols = '!@#$%^&*'\n",
        "codes = []\n",
        "for symbol in symbols:\n",
        "  codes.append(ord(symbol))\n",
        "  \n",
        "print(codes)  "
      ],
      "execution_count": 1,
      "outputs": [
        {
          "output_type": "stream",
          "text": [
            "[33, 64, 35, 36, 37, 94, 38, 42]\n"
          ],
          "name": "stdout"
        }
      ]
    },
    {
      "cell_type": "code",
      "metadata": {
        "id": "h1MG6Ntn2UTd",
        "colab_type": "code",
        "colab": {
          "base_uri": "https://localhost:8080/",
          "height": 34
        },
        "outputId": "273485dd-a80f-4425-fce9-2625cc1397dd"
      },
      "source": [
        "# 문자열에서 유니코드 코드포인트 리스트 만들기 (버전 2)\n",
        "symbols = '!@#$%^&*'\n",
        "codes = [ord(symbol) for symbol in symbols]\n",
        "print(codes)  "
      ],
      "execution_count": 2,
      "outputs": [
        {
          "output_type": "stream",
          "text": [
            "[33, 64, 35, 36, 37, 94, 38, 42]\n"
          ],
          "name": "stdout"
        }
      ]
    },
    {
      "cell_type": "markdown",
      "metadata": {
        "id": "gtxE0ICj2kV0",
        "colab_type": "text"
      },
      "source": [
        "버전 1에서 사용된 for 루프는 시퀀스를 읽어서 개수를 세거나 어떤 항목을 골라내거나 합계를 구하는 등 아주 다양한 일에 사용할 수 있다. 이와는 대조적으로 **지능형 리스트는 오로지 새로운 리스트를 만드는 일만 한다.** </br>\n",
        "</br>\n",
        "* **생성된 리스트를 사용하지 않을 거라면 지능형 리스트 구문을 사용하지 말아야 한다.**\n",
        "* **코드를 짧게 만들어야한다. 지능형 리스트 구문이 두 줄 이상 넘어가는 경우에는 코드를 분할하거나 for 문을 이용해서 작성하는 것이 더 낫다.**"
      ]
    },
    {
      "cell_type": "code",
      "metadata": {
        "id": "mTdMT1Z033Jk",
        "colab_type": "code",
        "colab": {
          "base_uri": "https://localhost:8080/",
          "height": 52
        },
        "outputId": "35dddb09-23a9-4124-be51-9df2b2c93531"
      },
      "source": [
        "x = 'ABC'\n",
        "dummy = [ord(x) for x in x]\n",
        "print(x) # x의 값이 유지된다\n",
        "print(dummy) # 지능형 리스트가 기대했던 리스트를 만든다."
      ],
      "execution_count": 3,
      "outputs": [
        {
          "output_type": "stream",
          "text": [
            "ABC\n",
            "[65, 66, 67]\n"
          ],
          "name": "stdout"
        }
      ]
    },
    {
      "cell_type": "markdown",
      "metadata": {
        "id": "FvMgzB4d319i",
        "colab_type": "text"
      },
      "source": [
        " 지능형 리스트, 제너레이터 표현식, 그리고 이와 동급인 지능형 집합과 지능형 딕셔너리는 함수처럼 고유한 지역 범위를 가진다. 표현식 안에서 할당된 변수는 지역 변수지만, 주변 범위의 변수를 여전히 참조할 수 있다."
      ]
    },
    {
      "cell_type": "markdown",
      "metadata": {
        "id": "aOKnzcfZ4a0X",
        "colab_type": "text"
      },
      "source": [
        "### 2.2.2 지능형 리스트와 map()/filter() 비교\n",
        "\n",
        "map()과 filter() 함수를 이용해서 수행할 수 있는 작업은 기능적으로 문제가 있는 파이썬 람다를 억지로 끼워 넣지 않고도 지능형 리스트를 이용해서 모두 구현할 수 있다."
      ]
    },
    {
      "cell_type": "code",
      "metadata": {
        "id": "rtMC1s354oPd",
        "colab_type": "code",
        "colab": {
          "base_uri": "https://localhost:8080/",
          "height": 52
        },
        "outputId": "c1d9b6b4-51e8-4d15-aa8d-db7df7fd0ab3"
      },
      "source": [
        "symbols = '!@#$%^&*'\n",
        "beyond_ascii = [ord(s) for s in symbols if ord(s) > 127]\n",
        "# 지능형 리스트로 생성\n",
        "print(beyond_ascii)\n",
        "\n",
        "beyond_ascii = list(filter(lambda c: c > 127, map(ord, symbols)))\n",
        "# map과 filter의 조합으로 생성\n",
        "print(beyond_ascii)  "
      ],
      "execution_count": 5,
      "outputs": [
        {
          "output_type": "stream",
          "text": [
            "[]\n",
            "[]\n"
          ],
          "name": "stdout"
        }
      ]
    },
    {
      "cell_type": "markdown",
      "metadata": {
        "id": "8P2T6Gs559Ft",
        "colab_type": "text"
      },
      "source": [
        "### 2.2.3 데카르트 곱\n"
      ]
    },
    {
      "cell_type": "code",
      "metadata": {
        "id": "Wax3XLGS6hoV",
        "colab_type": "code",
        "colab": {
          "base_uri": "https://localhost:8080/",
          "height": 158
        },
        "outputId": "c128aae3-c275-4aea-c2a8-5bec23acf0da"
      },
      "source": [
        "colors = ['black','white']\n",
        "sizes = ['S','M','L']\n",
        "\n",
        "tshirts = [(color, size) for color in colors for size in sizes]\n",
        "print(tshirts) # 지능형 리스트로 생성한 데카르트 곱\n",
        "\n",
        "for color in colors:\n",
        "  for size in sizes:\n",
        "    print((color, size)) # for 문의 루프를 활용한 데카르트 곱\n",
        "    \n",
        "tshirts = [(color, size) for size in sizes for color in colors]\n",
        "print(tshirts) # for 문의 순서를 바꿔서 정렬을 조정할 수 있다."
      ],
      "execution_count": 9,
      "outputs": [
        {
          "output_type": "stream",
          "text": [
            "[('black', 'S'), ('black', 'M'), ('black', 'L'), ('white', 'S'), ('white', 'M'), ('white', 'L')]\n",
            "('black', 'S')\n",
            "('black', 'M')\n",
            "('black', 'L')\n",
            "('white', 'S')\n",
            "('white', 'M')\n",
            "('white', 'L')\n",
            "[('black', 'S'), ('white', 'S'), ('black', 'M'), ('white', 'M'), ('black', 'L'), ('white', 'L')]\n"
          ],
          "name": "stdout"
        }
      ]
    },
    {
      "cell_type": "markdown",
      "metadata": {
        "id": "2xt1SPC17Kpi",
        "colab_type": "text"
      },
      "source": [
        "지능형 리스트는 단지 리스트를 만들 뿐이다. 다른 종류의 시퀀스를 채우려면 제너레이터 표현식을 사용해야 한다."
      ]
    },
    {
      "cell_type": "markdown",
      "metadata": {
        "id": "aMQ2_-Lj7R0k",
        "colab_type": "text"
      },
      "source": [
        "### 2.2.4 제너레이터 표현식\n",
        "\n",
        "튜플, 배열 등의 시퀀스형을 초기화하려면 지능형 리스트를 사용할 수도 있지만, 다른 생성자에 전달할 리스트를 통째로 만들지 않고 반복자 프로토콜(iterator protocol)을 이용해서 항목을 하나씩 생성하는 제너레이터 표현식은 메모리를 더 적게 사용한다."
      ]
    },
    {
      "cell_type": "code",
      "metadata": {
        "id": "ZNAGWrPp650G",
        "colab_type": "code",
        "colab": {
          "base_uri": "https://localhost:8080/",
          "height": 52
        },
        "outputId": "2cebaeed-befe-48ae-b830-f4c06a2efcd1"
      },
      "source": [
        "symbols = '!@#$%^&*'\n",
        "print(tuple(ord(symbol) for symbol in symbols)) # 제너레이터 표현식이 함수에 보내는 단 하나의 파라미터라면 괄호 안에 또 괄호를 넣을 필요는 없다.\n",
        "\n",
        "import array\n",
        "print(array.array('I', (ord(symbol) for symbol in symbols))) \n",
        "# 배열 생성자는 인수를 두 개 받으므로 제너레이터 표현식 앞 뒤에 반드시 괄호를 넣어야 한다. \n",
        "# 배열 생성자의 첫번째 인수는 배열에 들어 갈 숫자들을 저장할 자료형을 지정한다."
      ],
      "execution_count": 11,
      "outputs": [
        {
          "output_type": "stream",
          "text": [
            "(33, 64, 35, 36, 37, 94, 38, 42)\n",
            "array('I', [33, 64, 35, 36, 37, 94, 38, 42])\n"
          ],
          "name": "stdout"
        }
      ]
    },
    {
      "cell_type": "code",
      "metadata": {
        "id": "lPvEamhE8i_h",
        "colab_type": "code",
        "colab": {
          "base_uri": "https://localhost:8080/",
          "height": 122
        },
        "outputId": "7dc384c3-52f6-411d-eaf0-770555a39117"
      },
      "source": [
        "colors = ['black','white']\n",
        "sizes = ['S','M','L']\n",
        "\n",
        "for tshirt in ('%s %s' % (c, s) for c in colors for s in sizes):\n",
        "  print(tshirt)"
      ],
      "execution_count": 12,
      "outputs": [
        {
          "output_type": "stream",
          "text": [
            "black S\n",
            "black M\n",
            "black L\n",
            "white S\n",
            "white M\n",
            "white L\n"
          ],
          "name": "stdout"
        }
      ]
    },
    {
      "cell_type": "markdown",
      "metadata": {
        "id": "wCLuZLqU82-A",
        "colab_type": "text"
      },
      "source": [
        "여기서는 지능형 리스트의 경우와 달리, 티셔츠 리스트의 여섯 개 항목을 메모리 안에 생성하지 않는다. 제너레이터 표현식은 한 번에 한 항목을 생성할 수 있도록 for 루프에 데이터를 전달하기 때문이다. </br>\n",
        "</br>\n",
        "\n",
        " 데카르트 곱을 만들기 위해 사용할 리스트에 각각 천 개의 항목이 들어 있는 경우 제너레이터 표현식을 사용하면 단지 for 루프에 전달하기 위해 항목이 백만 개 들어 있는 리스트를 생성하는 일을 피할 수 있다."
      ]
    }
  ]
}