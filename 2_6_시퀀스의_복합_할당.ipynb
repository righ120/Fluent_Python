{
  "nbformat": 4,
  "nbformat_minor": 0,
  "metadata": {
    "colab": {
      "name": "2.6 시퀀스의 복합 할당.ipynb",
      "version": "0.3.2",
      "provenance": [],
      "collapsed_sections": [],
      "include_colab_link": true
    },
    "kernelspec": {
      "name": "python3",
      "display_name": "Python 3"
    }
  },
  "cells": [
    {
      "cell_type": "markdown",
      "metadata": {
        "id": "view-in-github",
        "colab_type": "text"
      },
      "source": [
        "<a href=\"https://colab.research.google.com/github/righ120/Fluent_Python/blob/master/2_6_%EC%8B%9C%ED%80%80%EC%8A%A4%EC%9D%98_%EB%B3%B5%ED%95%A9_%ED%95%A0%EB%8B%B9.ipynb\" target=\"_parent\"><img src=\"https://colab.research.google.com/assets/colab-badge.svg\" alt=\"Open In Colab\"/></a>"
      ]
    },
    {
      "cell_type": "markdown",
      "metadata": {
        "id": "g-9y5SvCRoJx",
        "colab_type": "text"
      },
      "source": [
        "# CH 2. 시퀀스\n",
        "\n",
        "## 2.6 시퀀스의 복합 할당\n",
        "\n",
        "\\+\\=과 \\*\\= 등의 복합 할당 연산자는 첫 번째 피연산자에 따라 상당히 다르게 작동한다. </br></br>\n",
        "\n",
        "\\+\\=과 \\*\\= 연산자가 작동하도록 만드는 특수 메서드는 <code>\\_\\_iadd__()</code>, <code>\\_\\_imul__()</code>이다. 만약 위의 두 메서드가 구현되어 있지 않으면, 파이썬은 대신 <code>\\_\\_add__(), \\_\\_mul__()</code> 메서드를 호출한다. </br></br>\n",
        "\n",
        "> a += b \n",
        "\n",
        "위의 식에서 a가 list, bytearray, array.array 등 가변 시퀀스인 경우 a의 값이 변경된다. (이 과정은 e.extend(b)와 비슷하다.) 그런데 a가 <code>\\_\\_iadd__()</code> 메서드를 구현하지 않은 경우 a += b 표현식은 a = a + b가 되어 먼저 a + b를 평가하고, 객체를 새로 생성한 후 a에 할당된다.즉, <code>\\_\\_iadd__()</code> 메서드 구현 여부에 따라 a 변수가 가리키는 객체의 정체성이 바뀔 수도 있고 바뀌지 않을 수도 있다. </br></br>\n",
        "\n",
        "일반적으로 가변 시퀀스에 대해서는 <code>\\_\\_iadd__()</code> 메서드를 구현해서 += 연산자가 기존 객체의 내용을 변경하게 만드는 것이 좋다. 불변 시퀀스의 경우에는 이 연산을 수행할 수 없다."
      ]
    },
    {
      "cell_type": "code",
      "metadata": {
        "id": "FuJWmkvWRCW-",
        "colab_type": "code",
        "colab": {
          "base_uri": "https://localhost:8080/",
          "height": 105
        },
        "outputId": "4b8f93d9-27cd-4750-b736-a235fd3b958b"
      },
      "source": [
        "l = [1, 2, 3]\n",
        "print(id(l))\n",
        "\n",
        "l *= 2\n",
        "print(l)\n",
        "print(id(l))\n",
        "\n",
        "t = (1, 2, 3)\n",
        "print(id(t))\n",
        "\n",
        "t *= 2 # 불변 시퀀스에 반복적으로 연결 연산을 수행하는 것은 비효율적이다.\n",
        "print(id(t))"
      ],
      "execution_count": 1,
      "outputs": [
        {
          "output_type": "stream",
          "text": [
            "139815161900424\n",
            "[1, 2, 3, 1, 2, 3]\n",
            "139815161900424\n",
            "139815162183112\n",
            "139815162570984\n"
          ],
          "name": "stdout"
        }
      ]
    },
    {
      "cell_type": "markdown",
      "metadata": {
        "id": "kMXUAfOSVC1W",
        "colab_type": "text"
      },
      "source": [
        "### 2.6.1 += 복합 할당 퀴즈\n",
        "\n",
        "아래 코드는 리스트에 항목이 할당 되고 에러가 발생한다."
      ]
    },
    {
      "cell_type": "code",
      "metadata": {
        "id": "wtyQ7YL4V6JU",
        "colab_type": "code",
        "colab": {
          "base_uri": "https://localhost:8080/",
          "height": 204
        },
        "outputId": "ad86f37e-9953-4a3c-d281-57e0aff81407"
      },
      "source": [
        "t = (1, 2, [30, 40])\n",
        "t[2] += [50, 60]"
      ],
      "execution_count": 2,
      "outputs": [
        {
          "output_type": "error",
          "ename": "TypeError",
          "evalue": "ignored",
          "traceback": [
            "\u001b[0;31m---------------------------------------------------------------------------\u001b[0m",
            "\u001b[0;31mTypeError\u001b[0m                                 Traceback (most recent call last)",
            "\u001b[0;32m<ipython-input-2-185139e4ca79>\u001b[0m in \u001b[0;36m<module>\u001b[0;34m()\u001b[0m\n\u001b[1;32m      1\u001b[0m \u001b[0mt\u001b[0m \u001b[0;34m=\u001b[0m \u001b[0;34m(\u001b[0m\u001b[0;36m1\u001b[0m\u001b[0;34m,\u001b[0m \u001b[0;36m2\u001b[0m\u001b[0;34m,\u001b[0m \u001b[0;34m[\u001b[0m\u001b[0;36m30\u001b[0m\u001b[0;34m,\u001b[0m \u001b[0;36m40\u001b[0m\u001b[0;34m]\u001b[0m\u001b[0;34m)\u001b[0m\u001b[0;34m\u001b[0m\u001b[0;34m\u001b[0m\u001b[0m\n\u001b[0;32m----> 2\u001b[0;31m \u001b[0mt\u001b[0m\u001b[0;34m[\u001b[0m\u001b[0;36m2\u001b[0m\u001b[0;34m]\u001b[0m \u001b[0;34m+=\u001b[0m \u001b[0;34m[\u001b[0m\u001b[0;36m50\u001b[0m\u001b[0;34m,\u001b[0m \u001b[0;36m60\u001b[0m\u001b[0;34m]\u001b[0m\u001b[0;34m\u001b[0m\u001b[0;34m\u001b[0m\u001b[0m\n\u001b[0m\u001b[1;32m      3\u001b[0m \u001b[0mprint\u001b[0m\u001b[0;34m(\u001b[0m\u001b[0mt\u001b[0m\u001b[0;34m)\u001b[0m\u001b[0;34m\u001b[0m\u001b[0;34m\u001b[0m\u001b[0m\n",
            "\u001b[0;31mTypeError\u001b[0m: 'tuple' object does not support item assignment"
          ]
        }
      ]
    },
    {
      "cell_type": "code",
      "metadata": {
        "id": "qhhXfSQPU6sO",
        "colab_type": "code",
        "colab": {
          "base_uri": "https://localhost:8080/",
          "height": 34
        },
        "outputId": "b3c581a6-61a2-4ee3-eba9-dd3e6ea56a46"
      },
      "source": [
        "print(t) # 위 코드의 실행은 에러가 났지만 t 의 값은 성공적으로 바뀌었다."
      ],
      "execution_count": 3,
      "outputs": [
        {
          "output_type": "stream",
          "text": [
            "(1, 2, [30, 40, 50, 60])\n"
          ],
          "name": "stdout"
        }
      ]
    },
    {
      "cell_type": "markdown",
      "metadata": {
        "id": "onIOn2KcWWMs",
        "colab_type": "text"
      },
      "source": [
        "위 코드의 작동 방식은 s[a] += b 표현식에 대해 파이썬이 생성한 바이트 코드를 보면 명확하게 알 수 있다."
      ]
    },
    {
      "cell_type": "code",
      "metadata": {
        "id": "oWm_KV7fWNHp",
        "colab_type": "code",
        "colab": {
          "base_uri": "https://localhost:8080/",
          "height": 193
        },
        "outputId": "ccf28816-2d5b-415c-aaed-d9e3c461708d"
      },
      "source": [
        "import dis\n",
        "dis.dis('s[a] += b')"
      ],
      "execution_count": 4,
      "outputs": [
        {
          "output_type": "stream",
          "text": [
            "  1           0 LOAD_NAME                0 (s)\n",
            "              2 LOAD_NAME                1 (a)\n",
            "              4 DUP_TOP_TWO\n",
            "              6 BINARY_SUBSCR\n",
            "              8 LOAD_NAME                2 (b)\n",
            "             10 INPLACE_ADD\n",
            "             12 ROT_THREE\n",
            "             14 STORE_SUBSCR\n",
            "             16 LOAD_CONST               0 (None)\n",
            "             18 RETURN_VALUE\n"
          ],
          "name": "stdout"
        }
      ]
    },
    {
      "cell_type": "markdown",
      "metadata": {
        "id": "kyxTMRWEWnA0",
        "colab_type": "text"
      },
      "source": [
        "10 번째 연산은 s[a] 가 가변 객체를 가리키면 성공한다. </br>\n",
        "14 번째 연산은 s가 불변 객체면 실패한다. </br></br>\n",
        "\n",
        "\n",
        "* 가변 항목을 튜플에 넣는 것은 좋지 않다. \n",
        "* 복합 할당은 원자적인 연산이 아니다.\n",
        "* 파이썬 바이트 코드를 통해 내부에서 어떤 일이 발생하고 있는지 알 수 있다."
      ]
    }
  ]
}