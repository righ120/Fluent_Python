{
  "nbformat": 4,
  "nbformat_minor": 0,
  "metadata": {
    "colab": {
      "name": "2.7 list.sort()와 sorted() 내장 함수.ipynb",
      "version": "0.3.2",
      "provenance": [],
      "include_colab_link": true
    },
    "kernelspec": {
      "name": "python3",
      "display_name": "Python 3"
    }
  },
  "cells": [
    {
      "cell_type": "markdown",
      "metadata": {
        "id": "view-in-github",
        "colab_type": "text"
      },
      "source": [
        "<a href=\"https://colab.research.google.com/github/righ120/Fluent_Python/blob/master/2_7_list_sort()%EC%99%80_sorted()_%EB%82%B4%EC%9E%A5_%ED%95%A8%EC%88%98.ipynb\" target=\"_parent\"><img src=\"https://colab.research.google.com/assets/colab-badge.svg\" alt=\"Open In Colab\"/></a>"
      ]
    },
    {
      "cell_type": "markdown",
      "metadata": {
        "id": "llQyKX68bJWe",
        "colab_type": "text"
      },
      "source": [
        "# CH 2. 시퀀스\n",
        "\n",
        "## 2.7 list.sort()와 sorted() 내장 함수\n",
        "\n",
        "파이썬 API 중요한 관례 중 하나는 객체를 직접 변경하는 함수나 메서드는 객체가 변경되었고 새로운 객체가 생성되지 않았음을 호출자에 알려주기 위해 <code>None</code>을 반환해야한다. 이는 list.sort()와 random.shuffle() 에 대해서 동일하게 작동한다. </br></br>\n",
        "\n",
        "반대로 sorted() 내장 함수는 새로운 리스트를 생성해서 반환한다. sorted() 함수는 불변 시퀀스 및 제너레이터를 포함해서 반복 가능한 모든 객체를 인수로 받을 수 있다. 입력 받은 반복 가능한 객체의 자료형과 무관하게 sorted() 함수는 언제나 새로 생성한 리스트를 반환한다. </br></br>\n",
        "\n",
        "list.sort() 메서드와 sorted() 함수 모두 선택적으로 두 개의 키워드를 인수로 받는다.\n",
        "\n",
        "> **reverse** </br>\n",
        "> reverse가 True 이면 비교 연산을 반대로 한다. 기본값은 False다. </br>\n",
        "> **key** </br>\n",
        "> 정렬에 사용할 키를 생성하기 위해 각 항목에 적용할 함수를 인수로 받는다.</br>\n",
        "> * 문자열 리스트를 정렬할 때 key=str.lower로 지정하면 대소문자를 구분하지 않고 정렬한다.\n",
        "> * 문자열 리스트를 정렬할 때 key=len으로 지정하면 문자열 길이에 따라 문자열을 정렬한다.\n",
        "> * key를 지정하지 않으면 항목 자체를 비교한다."
      ]
    },
    {
      "cell_type": "code",
      "metadata": {
        "id": "hKttcn8aavJT",
        "colab_type": "code",
        "colab": {
          "base_uri": "https://localhost:8080/",
          "height": 158
        },
        "outputId": "f681fb91-fe37-45f3-b532-4ae0f2053b6a"
      },
      "source": [
        "fruits = ['grape', 'raspberry', 'apple', 'banana']\n",
        "print(sorted(fruits)) # 알파벳순으로 정렬된 문자열들을 담은 새로운 리스트를 생성한다.\n",
        "print(fruits) # 원래 리스트를 보면 순서가 바뀌지 않았음을 확인할 수 있다.\n",
        "print(sorted(fruits, reverse=True)) # 알파벳 역순으로 정렬한다.\n",
        "print(sorted(fruits, key=len)) # 문자열 길이에 대해 정렬한다. 길이가 같은 grape와 apple은 원래 순서를 유지한 채 정렬된다. (안정적인 정렬 알고리즘임을 확인)\n",
        "print(sorted(fruits, key=len, reverse=True)) # 문자열 길이에 대해 역순으로 정렬하지만 안정적인 정렬 알고리즘 임으로 위의 정확한 역순이 아니라 grape와 apple은 원래 순서를 유지한다.\n",
        "print(fruits) # 원래 리스트의 순서는 바뀌지 않음\n",
        "print(fruits.sort()) # 객체 자체를 변환하므로, None을 반환한다.\n",
        "print(fruits) # 원래 리스트의 순서가 바뀌었다.\n"
      ],
      "execution_count": 1,
      "outputs": [
        {
          "output_type": "stream",
          "text": [
            "['apple', 'banana', 'grape', 'raspberry']\n",
            "['grape', 'raspberry', 'apple', 'banana']\n",
            "['raspberry', 'grape', 'banana', 'apple']\n",
            "['grape', 'apple', 'banana', 'raspberry']\n",
            "['raspberry', 'banana', 'grape', 'apple']\n",
            "['grape', 'raspberry', 'apple', 'banana']\n",
            "None\n",
            "['apple', 'banana', 'grape', 'raspberry']\n"
          ],
          "name": "stdout"
        }
      ]
    }
  ]
}